{
 "cells": [
  {
   "cell_type": "code",
   "execution_count": 4,
   "metadata": {},
   "outputs": [
    {
     "ename": "NameError",
     "evalue": "name '__file__' is not defined",
     "output_type": "error",
     "traceback": [
      "\u001b[0;31m---------------------------------------------------------------------------\u001b[0m",
      "\u001b[0;31mNameError\u001b[0m                                 Traceback (most recent call last)",
      "\u001b[0;32m<ipython-input-4-a2749597a1a8>\u001b[0m in \u001b[0;36m<module>\u001b[0;34m\u001b[0m\n\u001b[1;32m      5\u001b[0m \u001b[0;34m\u001b[0m\u001b[0m\n\u001b[1;32m      6\u001b[0m \u001b[0;32mfrom\u001b[0m \u001b[0mpathlib\u001b[0m \u001b[0;32mimport\u001b[0m \u001b[0mPath\u001b[0m\u001b[0;34m\u001b[0m\u001b[0;34m\u001b[0m\u001b[0m\n\u001b[0;32m----> 7\u001b[0;31m \u001b[0mwork\u001b[0m \u001b[0;34m=\u001b[0m \u001b[0mPath\u001b[0m\u001b[0;34m(\u001b[0m\u001b[0m__file__\u001b[0m\u001b[0;34m)\u001b[0m\u001b[0;34m.\u001b[0m\u001b[0mparents\u001b[0m\u001b[0;34m[\u001b[0m\u001b[0;36m1\u001b[0m\u001b[0;34m]\u001b[0m\u001b[0;34m\u001b[0m\u001b[0;34m\u001b[0m\u001b[0m\n\u001b[0m",
      "\u001b[0;31mNameError\u001b[0m: name '__file__' is not defined"
     ]
    }
   ],
   "source": [
    "import numpy as np\n",
    "import os\n",
    "import statsmodels.api as sm\n",
    "import neuropythy as ny\n"
   ]
  },
  {
   "cell_type": "code",
   "execution_count": 10,
   "metadata": {},
   "outputs": [
    {
     "name": "stdout",
     "output_type": "stream",
     "text": [
      "/Users/megmcmahon/GitHub/neuropythy-for-dev\n"
     ]
    }
   ],
   "source": [
    "from pathlib import Path\n",
    "work_dir = Path(os.getcwd()).parents[0]\n",
    "print(work_dir)"
   ]
  },
  {
   "cell_type": "code",
   "execution_count": null,
   "metadata": {},
   "outputs": [],
   "source": [
    "participants = ['sub-ls2001', 'sub-ls2003', 'sub-ls2008', 'sub-ls2009', 'sub-ls2037', 'sub-ls2043', 'sub-ls3017', 'sub-ls3019', 'sub-ls3026', 'sub-ls3029', 'sub-ls3040', 'sub-ls3046','sub-ls4025', 'sub-ls4036', 'sub-ls4041', 'sub-ls4043', 'sub-ls4047', 'sub-ls5007', 'sub-ls5038', 'sub-ls5040', 'sub-ls5041', 'sub-ls5049', 'sub-ls6003','sub-ls6006', 'sub-ls6009', 'sub-ls6046', 'sub-ls6038']\n",
    "subjects = []\n",
    "for participant in participants:\n",
    "   #print(os.path.join('s3://neurohack-neuropythy-for-dev', participant))\n",
    "   subjects.append(ny.hcp_subject((os.path.join('s3://neurohack-neuropythy-for-dev', participant), {'credentials': creds})))"
   ]
  },
  {
   "cell_type": "code",
   "execution_count": null,
   "metadata": {},
   "outputs": [],
   "source": [
    "#TODO: edit this path\n",
    "fsa = ny.freesurfer_subject('/data/freesurfer_subjects/fsaverage')"
   ]
  },
  {
   "cell_type": "markdown",
   "metadata": {},
   "source": [
    "### We ran this for subjects one by one and saved the output because jupyter hub kept crashing ###\n"
   ]
  },
  {
   "cell_type": "code",
   "execution_count": null,
   "metadata": {},
   "outputs": [],
   "source": [
    "fs_thicks = {'rh':[]} #'lh':[]},\n",
    "sub = subjects[26]\n",
    "th = []\n",
    "print(sub)\n",
    "for (h,thicks) in fs_thicks.items():\n",
    "    sub_hem = sub.hemis[h]\n",
    "    fsa_hem = fsa.hemis[h]\n",
    "    th = sub_hem.interpolate(fsa_hem, 'thickness')\n",
    "    print('complete')"
   ]
  },
  {
   "cell_type": "code",
   "execution_count": null,
   "metadata": {},
   "outputs": [],
   "source": [
    "print(th.shape)\n",
    "th_new = th\n",
    "np.save('th_6038', th_new)"
   ]
  },
  {
   "cell_type": "markdown",
   "metadata": {},
   "source": [
    "### We loaded in the saved npy arrays containing thickness values for each participant at each right hemisphere vertex ###"
   ]
  },
  {
   "cell_type": "code",
   "execution_count": null,
   "metadata": {},
   "outputs": [],
   "source": [
    "data_dir = os.path.join(work_dir, 'data')\n",
    "age = np.loadtxt(os.path.join(work_dir,'age.txt'))\n",
    "subjects = os.listdir(data_dir)"
   ]
  },
  {
   "cell_type": "markdown",
   "metadata": {},
   "source": [
    "### Create an n_subjects x n_vertices array with thickness values for the right hemisphere ###"
   ]
  },
  {
   "cell_type": "code",
   "execution_count": null,
   "metadata": {},
   "outputs": [],
   "source": [
    "y = []\n",
    "x = []\n",
    "thickness = []\n",
    "\n",
    "for s in sorted(subjects):\n",
    "    file = os.path.join(data_dir, s)\n",
    "    th = np.load(file)\n",
    "    thickness.append(th)\n",
    "y = np.array(thickness)\n",
    "\n",
    "x = age\n",
    "x = sm.add_constant(x)\n",
    "len(th)"
   ]
  },
  {
   "cell_type": "markdown",
   "metadata": {},
   "source": [
    "### Runs OLS model examining age vs. thickness at each vertex, assigning t statistics to results"
   ]
  },
  {
   "cell_type": "code",
   "execution_count": null,
   "metadata": {},
   "outputs": [],
   "source": [
    "results = zeros(len(th))\n",
    "\n",
    "for i in range(len(th)):\n",
    "    print(i)\n",
    "    y = np.array(thickness)[:, i]\n",
    "    model = sm.OLS(y, x)\n",
    "    res = model.fit()\n",
    "    results[i] = res.tvalues[1]"
   ]
  },
  {
   "cell_type": "markdown",
   "metadata": {},
   "source": [
    "### Save out t statistics for vizualization map"
   ]
  },
  {
   "cell_type": "code",
   "execution_count": null,
   "metadata": {},
   "outputs": [],
   "source": [
    "out_file = os.path.join(work_dir, 'results','t_slopes.npy')\n",
    "np.save(out_file, results)"
   ]
  },
  {
   "cell_type": "markdown",
   "metadata": {},
   "source": [
    "### To visualize group data ###"
   ]
  },
  {
   "cell_type": "code",
   "execution_count": 13,
   "metadata": {},
   "outputs": [
    {
     "name": "stdout",
     "output_type": "stream",
     "text": [
      "[-1.60738009 -1.89357836 -3.0291658  ... -2.05261824 -2.63024794\n",
      " -2.5921326 ]\n",
      "163842\n"
     ]
    }
   ],
   "source": [
    "tstat_file = os.path.join(work_dir, 'results','t_slopes.npy')\n",
    "tstat_map = np.load(tstat_file)\n",
    "\n",
    "#TODO: edit this path\n",
    "fsa = ny.freesurfer_subject('/data/freesurfer_subjects/fsaverage')"
   ]
  },
  {
   "cell_type": "code",
   "execution_count": null,
   "metadata": {},
   "outputs": [],
   "source": [
    "import neuropythy as ny\n",
    "\n",
    "surf = 'pial'       # we're plotting the pial surface\n",
    "view = 'right'  # we want a view of the posterior of the brain"
   ]
  },
  {
   "cell_type": "code",
   "execution_count": null,
   "metadata": {},
   "outputs": [],
   "source": [
    "ny.cortex_plot((fsa.rh.surfaces[surf]), color = tstat_map, cmap='hot', view=view)\n",
    "#help(ny.cortex_plot)"
   ]
  }
 ],
 "metadata": {
  "kernelspec": {
   "display_name": "Python 3",
   "language": "python",
   "name": "python3"
  },
  "language_info": {
   "codemirror_mode": {
    "name": "ipython",
    "version": 3
   },
   "file_extension": ".py",
   "mimetype": "text/x-python",
   "name": "python",
   "nbconvert_exporter": "python",
   "pygments_lexer": "ipython3",
   "version": "3.7.3"
  }
 },
 "nbformat": 4,
 "nbformat_minor": 4
}
