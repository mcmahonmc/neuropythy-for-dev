{
 "cells": [
  {
   "cell_type": "code",
   "execution_count": 20,
   "metadata": {},
   "outputs": [
    {
     "name": "stdout",
     "output_type": "stream",
     "text": [
      "[ 8.  8.  8.  8.  8.  8. 14. 14. 14. 14. 14. 14. 25. 25. 25. 25. 25. 45.\n",
      " 45. 45. 45. 45. 65. 65. 65. 65. 65.]\n",
      "['th_3019.npy', 'th_6003.npy', 'th_3026.npy', 'th_6006.npy', 'th_5040.npy', 'th_5041.npy', 'th_6038.npy', 'th_3046.npy', 'th_2001.npy', 'th_3040.npy', 'th_2003.npy', 'th_4047.npy', 'th_5007.npy', 'th_5038.npy', 'th_4041.npy', 'th_2008.npy', 'th_2009.npy', 'th_2037.npy', 'th_6046.npy', 'th_4043.npy', 'th_6009.npy', 'th_4025.npy', 'th_3017.npy', 'th_4036.npy', 'th_2043.npy', 'th_5049.npy', 'th_3029.npy']\n"
     ]
    }
   ],
   "source": [
    "import numpy as np\n",
    "import os\n",
    "import statsmodels.api as sm\n",
    "import neuropythy as np"
   ]
  },
  {
   "cell_type": "code",
   "execution_count": null,
   "metadata": {},
   "outputs": [],
   "source": [
    "participants = ['sub-ls2001', 'sub-ls2003', 'sub-ls2008', 'sub-ls2009', 'sub-ls2037', 'sub-ls2043', 'sub-ls3017', 'sub-ls3019', 'sub-ls3026', 'sub-ls3029', 'sub-ls3040', 'sub-ls3046','sub-ls4025', 'sub-ls4036', 'sub-ls4041', 'sub-ls4043', 'sub-ls4047', 'sub-ls5007', 'sub-ls5038', 'sub-ls5040', 'sub-ls5041', 'sub-ls5049', 'sub-ls6003','sub-ls6006', 'sub-ls6009', 'sub-ls6046', 'sub-ls6038']\n",
    "\n",
    "subjects = []\n",
    "for participant in participants:\n",
    "   #print(os.path.join('s3://neurohack-neuropythy-for-dev', participant))\n",
    "   subjects.append(ny.hcp_subject((os.path.join('s3://neurohack-neuropythy-for-dev', participant), {'credentials': creds})))"
   ]
  },
  {
   "cell_type": "code",
   "execution_count": null,
   "metadata": {},
   "outputs": [],
   "source": [
    "fsa = ny.freesurfer_subject('/data/freesurfer_subjects/fsaverage')\n",
    "print(fsa)"
   ]
  },
  {
   "cell_type": "markdown",
   "metadata": {},
   "source": [
    "### We ran this for subjects one by one and saved the output because jupyter hub kept crashing "
   ]
  },
  {
   "cell_type": "code",
   "execution_count": null,
   "metadata": {},
   "outputs": [],
   "source": [
    "fs_thicks = {'rh':[]} #'lh':[]},\n",
    "sub = subjects[26]\n",
    "th = []\n",
    "print(sub)\n",
    "for (h,thicks) in fs_thicks.items():\n",
    "    sub_hem = sub.hemis[h]\n",
    "    fsa_hem = fsa.hemis[h]\n",
    "    th = sub_hem.interpolate(fsa_hem, 'thickness')\n",
    "    print('complete')"
   ]
  },
  {
   "cell_type": "code",
   "execution_count": null,
   "metadata": {},
   "outputs": [],
   "source": [
    "print(th.shape)\n",
    "th_new = th\n",
    "np.save('th_6038', th_new)"
   ]
  },
  {
   "cell_type": "markdown",
   "metadata": {},
   "source": [
    "### We loaded in the saved npy arrays containing thickness values for each participant at each right hemisphere vertex"
   ]
  },
  {
   "cell_type": "code",
   "execution_count": null,
   "metadata": {},
   "outputs": [],
   "source": [
    "data_dir = '/Users/megmcmahon/GitHub/neuropythy-for-dev/'\n",
    "age = np.loadtxt(os.path.join(data_dir,'age.txt'))\n",
    "subjects = os.listdir('/Users/megmcmahon/GitHub/neuropythy-for-dev/data')"
   ]
  },
  {
   "cell_type": "markdown",
   "metadata": {},
   "source": [
    "### Create an n_subjects x n_vertices array with thickness values for the right hemisphere"
   ]
  },
  {
   "cell_type": "code",
   "execution_count": 21,
   "metadata": {},
   "outputs": [
    {
     "data": {
      "text/plain": [
       "27"
      ]
     },
     "execution_count": 21,
     "metadata": {},
     "output_type": "execute_result"
    }
   ],
   "source": [
    "y = []\n",
    "x = []\n",
    "thickness = []\n",
    "\n",
    "for s in sorted(subjects):\n",
    "    file = os.path.join(data_dir, s)\n",
    "    th = np.load(file)\n",
    "    thickness.append(th)\n",
    "y = np.array(thickness)\n",
    "\n",
    "x = age\n",
    "x = sm.add_constant(x)\n",
    "len(th)"
   ]
  },
  {
   "cell_type": "markdown",
   "metadata": {},
   "source": [
    "### Runs OLS model examining age vs. thickness at each vertex, assigning t statistics to results\n"
   ]
  },
  {
   "cell_type": "code",
   "execution_count": null,
   "metadata": {},
   "outputs": [],
   "source": [
    "results = zeros(len(th))\n",
    "\n",
    "for i in range(len(th)):\n",
    "    print(i)\n",
    "    y = np.array(thickness)[:, i]\n",
    "    model = sm.OLS(y, x)\n",
    "    res = model.fit()\n",
    "    results[i] = res.tvalues[1]\n"
   ]
  },
  {
   "cell_type": "markdown",
   "metadata": {},
   "source": [
    "### Save out t statistics for vizualization map"
   ]
  },
  {
   "cell_type": "code",
   "execution_count": 32,
   "metadata": {},
   "outputs": [],
   "source": [
    "np.save('t_slopes', results)"
   ]
  },
  {
   "cell_type": "markdown",
   "metadata": {},
   "source": [
    "### Display t statistics for each vertex"
   ]
  },
  {
   "cell_type": "code",
   "execution_count": null,
   "metadata": {},
   "outputs": [],
   "source": [
    "results"
   ]
  },
  {
   "cell_type": "code",
   "execution_count": 50,
   "metadata": {},
   "outputs": [
    {
     "data": {
      "text/plain": [
       "array([[15.00914902, -1.60738009],\n",
       "       [12.76645856, -1.89357836],\n",
       "       [18.83537626, -3.0291658 ],\n",
       "       ...,\n",
       "       [13.27019805, -2.05261824],\n",
       "       [14.69169926, -2.63024794],\n",
       "       [14.83040193, -2.5921326 ]])"
      ]
     },
     "execution_count": 50,
     "metadata": {},
     "output_type": "execute_result"
    }
   ],
   "source": [
    "#results2 = np.stack(results, axis=0)\n",
    "#results2"
   ]
  },
  {
   "cell_type": "code",
   "execution_count": 52,
   "metadata": {},
   "outputs": [],
   "source": [
    "#t_slope = results2[:,1]"
   ]
  },
  {
   "cell_type": "code",
   "execution_count": 53,
   "metadata": {},
   "outputs": [],
   "source": [
    "#np.save('t_slopes', t_slope)"
   ]
  }
 ],
 "metadata": {
  "kernelspec": {
   "display_name": "Python 3",
   "language": "python",
   "name": "python3"
  },
  "language_info": {
   "codemirror_mode": {
    "name": "ipython",
    "version": 3
   },
   "file_extension": ".py",
   "mimetype": "text/x-python",
   "name": "python",
   "nbconvert_exporter": "python",
   "pygments_lexer": "ipython3",
   "version": "3.7.3"
  }
 },
 "nbformat": 4,
 "nbformat_minor": 2
}
